{
 "cells": [
  {
   "cell_type": "markdown",
   "metadata": {
    "id": "KWG1-R5I98xd"
   },
   "source": [
    "## Self-Learning Tutorial\n",
    "### James Holbrook\n",
    "\n",
    "\n",
    "\n",
    "Step 1) Import files\n",
    "\n",
    "Run the code below, then select 'Choose Files' and select all provided files: patients.csv, observations.csv, conditions.csv."
   ]
  },
  {
   "cell_type": "code",
   "execution_count": 25,
   "metadata": {
    "colab": {
     "base_uri": "https://localhost:8080/",
     "height": 142
    },
    "id": "ZUQm5vR9MTrB",
    "outputId": "1bc39f3b-64dc-48d6-f887-5b4cf844c893"
   },
   "outputs": [
    {
     "data": {
      "text/html": [
       "<style>.container { width:90% !important; }</style>"
      ],
      "text/plain": [
       "<IPython.core.display.HTML object>"
      ]
     },
     "metadata": {},
     "output_type": "display_data"
    }
   ],
   "source": [
    "import pandas as pd\n",
    "import numpy as np\n",
    "pd.options.mode.chained_assignment = None\n",
    "\n",
    "from IPython.display import display, HTML\n",
    "display(HTML(\"<style>.container { width:90% !important; }</style>\"))\n",
    "\n",
    "# Source of data:\n",
    " # https://data.world/siyeh/synthetic-medical-data\n",
    "\n",
    "\n",
    "observations_raw = pd.read_csv('observations.csv')\n",
    "patients_raw = pd.read_csv('patients.csv')\n",
    "conditions_raw = pd.read_csv('conditions.csv')\n"
   ]
  },
  {
   "cell_type": "markdown",
   "metadata": {},
   "source": [
    "# Make a copy of each dataset so we do not have to re-import if we want to reverse a change in the data.\n",
    "\n",
    "## Print a small sample of data"
   ]
  },
  {
   "cell_type": "code",
   "execution_count": 2,
   "metadata": {
    "id": "lvzcBdAsk_Wf"
   },
   "outputs": [
    {
     "data": {
      "text/html": [
       "<div>\n",
       "<style scoped>\n",
       "    .dataframe tbody tr th:only-of-type {\n",
       "        vertical-align: middle;\n",
       "    }\n",
       "\n",
       "    .dataframe tbody tr th {\n",
       "        vertical-align: top;\n",
       "    }\n",
       "\n",
       "    .dataframe thead th {\n",
       "        text-align: right;\n",
       "    }\n",
       "</style>\n",
       "<table border=\"1\" class=\"dataframe\">\n",
       "  <thead>\n",
       "    <tr style=\"text-align: right;\">\n",
       "      <th></th>\n",
       "      <th>patient</th>\n",
       "      <th>birthdate</th>\n",
       "      <th>deathdate</th>\n",
       "      <th>ssn</th>\n",
       "      <th>drivers</th>\n",
       "      <th>passport</th>\n",
       "      <th>prefix</th>\n",
       "      <th>first</th>\n",
       "      <th>last</th>\n",
       "      <th>suffix</th>\n",
       "      <th>maiden</th>\n",
       "      <th>marital</th>\n",
       "      <th>race</th>\n",
       "      <th>ethnicity</th>\n",
       "      <th>gender</th>\n",
       "      <th>birthplace</th>\n",
       "      <th>address</th>\n",
       "    </tr>\n",
       "  </thead>\n",
       "  <tbody>\n",
       "    <tr>\n",
       "      <th>0</th>\n",
       "      <td>4ee2c837-e60f-4c54-9fdf-8686bc70760b</td>\n",
       "      <td>1929-04-08</td>\n",
       "      <td>2029-11-11</td>\n",
       "      <td>999-78-5976</td>\n",
       "      <td>NaN</td>\n",
       "      <td>NaN</td>\n",
       "      <td>NaN</td>\n",
       "      <td>Rosamaria</td>\n",
       "      <td>Pfannerstill</td>\n",
       "      <td>NaN</td>\n",
       "      <td>NaN</td>\n",
       "      <td>NaN</td>\n",
       "      <td>black</td>\n",
       "      <td>dominican</td>\n",
       "      <td>F</td>\n",
       "      <td>Pittsfield MA US</td>\n",
       "      <td>18797 Karson Burgs Suite 444 Palmer Town MA 01...</td>\n",
       "    </tr>\n",
       "    <tr>\n",
       "      <th>1</th>\n",
       "      <td>efaf74f9-3de3-45dd-a5d5-26d08e8a3190</td>\n",
       "      <td>2016-12-15</td>\n",
       "      <td>2020-02-19</td>\n",
       "      <td>999-59-9186</td>\n",
       "      <td>NaN</td>\n",
       "      <td>NaN</td>\n",
       "      <td>NaN</td>\n",
       "      <td>Loan</td>\n",
       "      <td>Bashirian</td>\n",
       "      <td>NaN</td>\n",
       "      <td>NaN</td>\n",
       "      <td>NaN</td>\n",
       "      <td>white</td>\n",
       "      <td>american</td>\n",
       "      <td>F</td>\n",
       "      <td>Medford MA US</td>\n",
       "      <td>301 Eula Radial Suite 298 Brockton MA 02305 US</td>\n",
       "    </tr>\n",
       "    <tr>\n",
       "      <th>2</th>\n",
       "      <td>aaa4c718-2f48-4c13-9ad0-d287cf280824</td>\n",
       "      <td>1943-11-28</td>\n",
       "      <td>2017-10-22</td>\n",
       "      <td>999-43-3780</td>\n",
       "      <td>S99992928</td>\n",
       "      <td>FALSE</td>\n",
       "      <td>Mr.</td>\n",
       "      <td>Angelo</td>\n",
       "      <td>Buckridge</td>\n",
       "      <td>NaN</td>\n",
       "      <td>NaN</td>\n",
       "      <td>S</td>\n",
       "      <td>black</td>\n",
       "      <td>african</td>\n",
       "      <td>M</td>\n",
       "      <td>Framingham MA US</td>\n",
       "      <td>8693 Fred Crossroad New Bedford MA 02746 US</td>\n",
       "    </tr>\n",
       "    <tr>\n",
       "      <th>3</th>\n",
       "      <td>a1851c06-804e-4f31-9d8f-388cd52d4ad0</td>\n",
       "      <td>1954-10-22</td>\n",
       "      <td>2017-10-13</td>\n",
       "      <td>999-53-5542</td>\n",
       "      <td>S99975961</td>\n",
       "      <td>X98167138X</td>\n",
       "      <td>Mrs.</td>\n",
       "      <td>Cami</td>\n",
       "      <td>Terry</td>\n",
       "      <td>NaN</td>\n",
       "      <td>Schuster</td>\n",
       "      <td>M</td>\n",
       "      <td>white</td>\n",
       "      <td>english</td>\n",
       "      <td>F</td>\n",
       "      <td>Hudson MA US</td>\n",
       "      <td>344 Olson Road Apt. 936 Attleboro MA 02703 US</td>\n",
       "    </tr>\n",
       "    <tr>\n",
       "      <th>4</th>\n",
       "      <td>48074b70-4db4-4ab0-b9e8-361bd2ba6216</td>\n",
       "      <td>1935-04-08</td>\n",
       "      <td>2017-09-06</td>\n",
       "      <td>999-34-8549</td>\n",
       "      <td>S99997003</td>\n",
       "      <td>X65866752X</td>\n",
       "      <td>Mr.</td>\n",
       "      <td>Giovanni</td>\n",
       "      <td>Russel</td>\n",
       "      <td>NaN</td>\n",
       "      <td>NaN</td>\n",
       "      <td>M</td>\n",
       "      <td>hispanic</td>\n",
       "      <td>puerto_rican</td>\n",
       "      <td>M</td>\n",
       "      <td>Westfield MA US</td>\n",
       "      <td>5780 Corwin Trafficway Dartmouth MA 02714 US</td>\n",
       "    </tr>\n",
       "  </tbody>\n",
       "</table>\n",
       "</div>"
      ],
      "text/plain": [
       "                                patient   birthdate   deathdate          ssn   \n",
       "0  4ee2c837-e60f-4c54-9fdf-8686bc70760b  1929-04-08  2029-11-11  999-78-5976  \\\n",
       "1  efaf74f9-3de3-45dd-a5d5-26d08e8a3190  2016-12-15  2020-02-19  999-59-9186   \n",
       "2  aaa4c718-2f48-4c13-9ad0-d287cf280824  1943-11-28  2017-10-22  999-43-3780   \n",
       "3  a1851c06-804e-4f31-9d8f-388cd52d4ad0  1954-10-22  2017-10-13  999-53-5542   \n",
       "4  48074b70-4db4-4ab0-b9e8-361bd2ba6216  1935-04-08  2017-09-06  999-34-8549   \n",
       "\n",
       "     drivers    passport prefix      first          last suffix    maiden   \n",
       "0        NaN         NaN    NaN  Rosamaria  Pfannerstill    NaN       NaN  \\\n",
       "1        NaN         NaN    NaN       Loan     Bashirian    NaN       NaN   \n",
       "2  S99992928       FALSE    Mr.     Angelo     Buckridge    NaN       NaN   \n",
       "3  S99975961  X98167138X   Mrs.       Cami         Terry    NaN  Schuster   \n",
       "4  S99997003  X65866752X    Mr.   Giovanni        Russel    NaN       NaN   \n",
       "\n",
       "  marital      race     ethnicity gender        birthplace   \n",
       "0     NaN     black     dominican      F  Pittsfield MA US  \\\n",
       "1     NaN     white      american      F     Medford MA US   \n",
       "2       S     black       african      M  Framingham MA US   \n",
       "3       M     white       english      F      Hudson MA US   \n",
       "4       M  hispanic  puerto_rican      M   Westfield MA US   \n",
       "\n",
       "                                             address  \n",
       "0  18797 Karson Burgs Suite 444 Palmer Town MA 01...  \n",
       "1     301 Eula Radial Suite 298 Brockton MA 02305 US  \n",
       "2        8693 Fred Crossroad New Bedford MA 02746 US  \n",
       "3      344 Olson Road Apt. 936 Attleboro MA 02703 US  \n",
       "4       5780 Corwin Trafficway Dartmouth MA 02714 US  "
      ]
     },
     "execution_count": 2,
     "metadata": {},
     "output_type": "execute_result"
    }
   ],
   "source": [
    "patients = patients_raw.copy()\n",
    "patients.head()"
   ]
  },
  {
   "cell_type": "code",
   "execution_count": 3,
   "metadata": {},
   "outputs": [
    {
     "data": {
      "text/html": [
       "<div>\n",
       "<style scoped>\n",
       "    .dataframe tbody tr th:only-of-type {\n",
       "        vertical-align: middle;\n",
       "    }\n",
       "\n",
       "    .dataframe tbody tr th {\n",
       "        vertical-align: top;\n",
       "    }\n",
       "\n",
       "    .dataframe thead th {\n",
       "        text-align: right;\n",
       "    }\n",
       "</style>\n",
       "<table border=\"1\" class=\"dataframe\">\n",
       "  <thead>\n",
       "    <tr style=\"text-align: right;\">\n",
       "      <th></th>\n",
       "      <th>START</th>\n",
       "      <th>STOP</th>\n",
       "      <th>PATIENT</th>\n",
       "      <th>ENCOUNTER</th>\n",
       "      <th>CODE</th>\n",
       "      <th>DESCRIPTION</th>\n",
       "    </tr>\n",
       "  </thead>\n",
       "  <tbody>\n",
       "    <tr>\n",
       "      <th>0</th>\n",
       "      <td>2009-01-08</td>\n",
       "      <td>2009-01-21</td>\n",
       "      <td>71949668-1c2e-43ae-ab0a-64654608defb</td>\n",
       "      <td>4d451e22-a354-40c9-8b33-b6126158666d</td>\n",
       "      <td>10509002</td>\n",
       "      <td>Acute bronchitis (disorder)</td>\n",
       "    </tr>\n",
       "    <tr>\n",
       "      <th>1</th>\n",
       "      <td>2010-10-16</td>\n",
       "      <td>2010-10-23</td>\n",
       "      <td>71949668-1c2e-43ae-ab0a-64654608defb</td>\n",
       "      <td>bed7ecff-b41c-422b-beac-ea00c8b02837</td>\n",
       "      <td>38822007</td>\n",
       "      <td>Cystitis</td>\n",
       "    </tr>\n",
       "    <tr>\n",
       "      <th>2</th>\n",
       "      <td>2013-02-07</td>\n",
       "      <td>2013-02-27</td>\n",
       "      <td>71949668-1c2e-43ae-ab0a-64654608defb</td>\n",
       "      <td>6f2e3935-b203-493e-a9c0-f23e847b9798</td>\n",
       "      <td>10509002</td>\n",
       "      <td>Acute bronchitis (disorder)</td>\n",
       "    </tr>\n",
       "    <tr>\n",
       "      <th>3</th>\n",
       "      <td>2013-10-19</td>\n",
       "      <td>2014-05-17</td>\n",
       "      <td>71949668-1c2e-43ae-ab0a-64654608defb</td>\n",
       "      <td>da4fd626-e74e-4930-91be-7fb3da7ea098</td>\n",
       "      <td>72892002</td>\n",
       "      <td>Normal pregnancy</td>\n",
       "    </tr>\n",
       "    <tr>\n",
       "      <th>4</th>\n",
       "      <td>2014-01-28</td>\n",
       "      <td>2014-02-10</td>\n",
       "      <td>71949668-1c2e-43ae-ab0a-64654608defb</td>\n",
       "      <td>b2e12445-b771-4738-944b-95cf6bbe76eb</td>\n",
       "      <td>195662009</td>\n",
       "      <td>Acute viral pharyngitis (disorder)</td>\n",
       "    </tr>\n",
       "  </tbody>\n",
       "</table>\n",
       "</div>"
      ],
      "text/plain": [
       "        START        STOP                               PATIENT   \n",
       "0  2009-01-08  2009-01-21  71949668-1c2e-43ae-ab0a-64654608defb  \\\n",
       "1  2010-10-16  2010-10-23  71949668-1c2e-43ae-ab0a-64654608defb   \n",
       "2  2013-02-07  2013-02-27  71949668-1c2e-43ae-ab0a-64654608defb   \n",
       "3  2013-10-19  2014-05-17  71949668-1c2e-43ae-ab0a-64654608defb   \n",
       "4  2014-01-28  2014-02-10  71949668-1c2e-43ae-ab0a-64654608defb   \n",
       "\n",
       "                              ENCOUNTER       CODE   \n",
       "0  4d451e22-a354-40c9-8b33-b6126158666d   10509002  \\\n",
       "1  bed7ecff-b41c-422b-beac-ea00c8b02837   38822007   \n",
       "2  6f2e3935-b203-493e-a9c0-f23e847b9798   10509002   \n",
       "3  da4fd626-e74e-4930-91be-7fb3da7ea098   72892002   \n",
       "4  b2e12445-b771-4738-944b-95cf6bbe76eb  195662009   \n",
       "\n",
       "                          DESCRIPTION  \n",
       "0         Acute bronchitis (disorder)  \n",
       "1                            Cystitis  \n",
       "2         Acute bronchitis (disorder)  \n",
       "3                    Normal pregnancy  \n",
       "4  Acute viral pharyngitis (disorder)  "
      ]
     },
     "execution_count": 3,
     "metadata": {},
     "output_type": "execute_result"
    }
   ],
   "source": [
    "conditions = conditions_raw.copy()\n",
    "conditions.head()\n"
   ]
  },
  {
   "cell_type": "code",
   "execution_count": 4,
   "metadata": {},
   "outputs": [
    {
     "data": {
      "text/html": [
       "<div>\n",
       "<style scoped>\n",
       "    .dataframe tbody tr th:only-of-type {\n",
       "        vertical-align: middle;\n",
       "    }\n",
       "\n",
       "    .dataframe tbody tr th {\n",
       "        vertical-align: top;\n",
       "    }\n",
       "\n",
       "    .dataframe thead th {\n",
       "        text-align: right;\n",
       "    }\n",
       "</style>\n",
       "<table border=\"1\" class=\"dataframe\">\n",
       "  <thead>\n",
       "    <tr style=\"text-align: right;\">\n",
       "      <th></th>\n",
       "      <th>DATE</th>\n",
       "      <th>PATIENT</th>\n",
       "      <th>ENCOUNTER</th>\n",
       "      <th>CODE</th>\n",
       "      <th>DESCRIPTION</th>\n",
       "      <th>VALUE</th>\n",
       "      <th>UNITS</th>\n",
       "    </tr>\n",
       "  </thead>\n",
       "  <tbody>\n",
       "    <tr>\n",
       "      <th>0</th>\n",
       "      <td>2008-03-11</td>\n",
       "      <td>71949668-1c2e-43ae-ab0a-64654608defb</td>\n",
       "      <td>5114a5b4-64b8-47b2-82a6-0ce24aae0943</td>\n",
       "      <td>8302-2</td>\n",
       "      <td>Body Height</td>\n",
       "      <td>166.03</td>\n",
       "      <td>cm</td>\n",
       "    </tr>\n",
       "    <tr>\n",
       "      <th>1</th>\n",
       "      <td>2008-03-11</td>\n",
       "      <td>71949668-1c2e-43ae-ab0a-64654608defb</td>\n",
       "      <td>5114a5b4-64b8-47b2-82a6-0ce24aae0943</td>\n",
       "      <td>29463-7</td>\n",
       "      <td>Body Weight</td>\n",
       "      <td>54.42</td>\n",
       "      <td>kg</td>\n",
       "    </tr>\n",
       "    <tr>\n",
       "      <th>2</th>\n",
       "      <td>2008-03-11</td>\n",
       "      <td>71949668-1c2e-43ae-ab0a-64654608defb</td>\n",
       "      <td>5114a5b4-64b8-47b2-82a6-0ce24aae0943</td>\n",
       "      <td>39156-5</td>\n",
       "      <td>Body Mass Index</td>\n",
       "      <td>19.74</td>\n",
       "      <td>kg/m2</td>\n",
       "    </tr>\n",
       "    <tr>\n",
       "      <th>3</th>\n",
       "      <td>2008-03-11</td>\n",
       "      <td>71949668-1c2e-43ae-ab0a-64654608defb</td>\n",
       "      <td>5114a5b4-64b8-47b2-82a6-0ce24aae0943</td>\n",
       "      <td>8480-6</td>\n",
       "      <td>Systolic Blood Pressure</td>\n",
       "      <td>139.0</td>\n",
       "      <td>mmHg</td>\n",
       "    </tr>\n",
       "    <tr>\n",
       "      <th>4</th>\n",
       "      <td>2008-03-11</td>\n",
       "      <td>71949668-1c2e-43ae-ab0a-64654608defb</td>\n",
       "      <td>5114a5b4-64b8-47b2-82a6-0ce24aae0943</td>\n",
       "      <td>8462-4</td>\n",
       "      <td>Diastolic Blood Pressure</td>\n",
       "      <td>89.0</td>\n",
       "      <td>mmHg</td>\n",
       "    </tr>\n",
       "  </tbody>\n",
       "</table>\n",
       "</div>"
      ],
      "text/plain": [
       "         DATE                               PATIENT   \n",
       "0  2008-03-11  71949668-1c2e-43ae-ab0a-64654608defb  \\\n",
       "1  2008-03-11  71949668-1c2e-43ae-ab0a-64654608defb   \n",
       "2  2008-03-11  71949668-1c2e-43ae-ab0a-64654608defb   \n",
       "3  2008-03-11  71949668-1c2e-43ae-ab0a-64654608defb   \n",
       "4  2008-03-11  71949668-1c2e-43ae-ab0a-64654608defb   \n",
       "\n",
       "                              ENCOUNTER     CODE               DESCRIPTION   \n",
       "0  5114a5b4-64b8-47b2-82a6-0ce24aae0943   8302-2               Body Height  \\\n",
       "1  5114a5b4-64b8-47b2-82a6-0ce24aae0943  29463-7               Body Weight   \n",
       "2  5114a5b4-64b8-47b2-82a6-0ce24aae0943  39156-5           Body Mass Index   \n",
       "3  5114a5b4-64b8-47b2-82a6-0ce24aae0943   8480-6   Systolic Blood Pressure   \n",
       "4  5114a5b4-64b8-47b2-82a6-0ce24aae0943   8462-4  Diastolic Blood Pressure   \n",
       "\n",
       "    VALUE  UNITS  \n",
       "0  166.03     cm  \n",
       "1   54.42     kg  \n",
       "2   19.74  kg/m2  \n",
       "3   139.0   mmHg  \n",
       "4    89.0   mmHg  "
      ]
     },
     "execution_count": 4,
     "metadata": {},
     "output_type": "execute_result"
    }
   ],
   "source": [
    "observations = observations_raw.copy()\n",
    "observations.head()"
   ]
  },
  {
   "cell_type": "markdown",
   "metadata": {
    "id": "00iirk5b_1r7"
   },
   "source": [
    "# Data Observations and Cleaning\n",
    "\n",
    "\n",
    "### Clean Observations"
   ]
  },
  {
   "cell_type": "code",
   "execution_count": 5,
   "metadata": {
    "colab": {
     "base_uri": "https://localhost:8080/"
    },
    "id": "KpIquZG__1fU",
    "outputId": "215b9d72-943e-41cb-f6c8-fdbf958d60f6"
   },
   "outputs": [
    {
     "data": {
      "text/plain": [
       "DESCRIPTION\n",
       "Body Height                                               8473\n",
       "Systolic Blood Pressure                                   8473\n",
       "Diastolic Blood Pressure                                  8473\n",
       "Body Weight                                               8473\n",
       "Body Mass Index                                           7296\n",
       "                                                          ... \n",
       "Familial Alzheimer's disease of early onset (disorder)       3\n",
       "Malignant tumor of colon                                     3\n",
       "End stage renal disease (disorder)                           2\n",
       "Secondary malignant neoplasm of colon                        1\n",
       "Burn injury(morphologic abnormality)                         1\n",
       "Name: count, Length: 73, dtype: int64"
      ]
     },
     "execution_count": 5,
     "metadata": {},
     "output_type": "execute_result"
    }
   ],
   "source": [
    "observations['DESCRIPTION'].value_counts()"
   ]
  },
  {
   "cell_type": "markdown",
   "metadata": {
    "id": "N7XQaBXmAAqc"
   },
   "source": [
    "I am going to keep the observations types that are most common in order to have a more complete dataset for patients.\n",
    "\n",
    "Then take the average of eacch measurement to get one patient per observation. This doesn't take into account the timing of each measurement, but should work fo this exercise."
   ]
  },
  {
   "cell_type": "code",
   "execution_count": 6,
   "metadata": {
    "id": "gsZwaAvgYgUc"
   },
   "outputs": [],
   "source": [
    "observations_list = ['Body Height','Systolic Blood Pressure','Diastolic Blood Pressure','Body Mass Index']\n",
    "observations = observations[observations['DESCRIPTION'].isin(observations_list)]\n",
    "observations['value']= observations['VALUE'].astype(float)\n",
    "\n"
   ]
  },
  {
   "cell_type": "code",
   "execution_count": 7,
   "metadata": {
    "colab": {
     "base_uri": "https://localhost:8080/",
     "height": 206
    },
    "id": "AwSQaNzYYxo6",
    "outputId": "c0f94171-e392-498c-fc47-b195d21bc75f"
   },
   "outputs": [
    {
     "data": {
      "text/html": [
       "<div>\n",
       "<style scoped>\n",
       "    .dataframe tbody tr th:only-of-type {\n",
       "        vertical-align: middle;\n",
       "    }\n",
       "\n",
       "    .dataframe tbody tr th {\n",
       "        vertical-align: top;\n",
       "    }\n",
       "\n",
       "    .dataframe thead th {\n",
       "        text-align: right;\n",
       "    }\n",
       "</style>\n",
       "<table border=\"1\" class=\"dataframe\">\n",
       "  <thead>\n",
       "    <tr style=\"text-align: right;\">\n",
       "      <th></th>\n",
       "      <th>PATIENT</th>\n",
       "      <th>DESCRIPTION</th>\n",
       "      <th>UNITS</th>\n",
       "      <th>value</th>\n",
       "    </tr>\n",
       "  </thead>\n",
       "  <tbody>\n",
       "    <tr>\n",
       "      <th>0</th>\n",
       "      <td>00341a88-1cc1-4b39-b0f9-05b0531991a0</td>\n",
       "      <td>Body Height</td>\n",
       "      <td>cm</td>\n",
       "      <td>151.1100</td>\n",
       "    </tr>\n",
       "    <tr>\n",
       "      <th>1</th>\n",
       "      <td>00341a88-1cc1-4b39-b0f9-05b0531991a0</td>\n",
       "      <td>Body Mass Index</td>\n",
       "      <td>kg/m2</td>\n",
       "      <td>40.7225</td>\n",
       "    </tr>\n",
       "    <tr>\n",
       "      <th>2</th>\n",
       "      <td>00341a88-1cc1-4b39-b0f9-05b0531991a0</td>\n",
       "      <td>Diastolic Blood Pressure</td>\n",
       "      <td>mmHg</td>\n",
       "      <td>78.0000</td>\n",
       "    </tr>\n",
       "    <tr>\n",
       "      <th>3</th>\n",
       "      <td>00341a88-1cc1-4b39-b0f9-05b0531991a0</td>\n",
       "      <td>Systolic Blood Pressure</td>\n",
       "      <td>mmHg</td>\n",
       "      <td>116.5000</td>\n",
       "    </tr>\n",
       "    <tr>\n",
       "      <th>4</th>\n",
       "      <td>004a5922-7c4d-40cc-a0f8-68f607044c99</td>\n",
       "      <td>Body Height</td>\n",
       "      <td>cm</td>\n",
       "      <td>77.1910</td>\n",
       "    </tr>\n",
       "  </tbody>\n",
       "</table>\n",
       "</div>"
      ],
      "text/plain": [
       "                                PATIENT               DESCRIPTION  UNITS   \n",
       "0  00341a88-1cc1-4b39-b0f9-05b0531991a0               Body Height     cm  \\\n",
       "1  00341a88-1cc1-4b39-b0f9-05b0531991a0           Body Mass Index  kg/m2   \n",
       "2  00341a88-1cc1-4b39-b0f9-05b0531991a0  Diastolic Blood Pressure   mmHg   \n",
       "3  00341a88-1cc1-4b39-b0f9-05b0531991a0   Systolic Blood Pressure   mmHg   \n",
       "4  004a5922-7c4d-40cc-a0f8-68f607044c99               Body Height     cm   \n",
       "\n",
       "      value  \n",
       "0  151.1100  \n",
       "1   40.7225  \n",
       "2   78.0000  \n",
       "3  116.5000  \n",
       "4   77.1910  "
      ]
     },
     "execution_count": 7,
     "metadata": {},
     "output_type": "execute_result"
    }
   ],
   "source": [
    "patient_observation_avg = observations[['PATIENT','DESCRIPTION','UNITS','value']].groupby(['PATIENT','DESCRIPTION','UNITS'], as_index=False).mean()\n",
    "\n",
    "patient_observation_avg.head()"
   ]
  },
  {
   "cell_type": "markdown",
   "metadata": {
    "id": "tETVl6hpA2hM"
   },
   "source": [
    "### Clean Conditions Data"
   ]
  },
  {
   "cell_type": "code",
   "execution_count": 8,
   "metadata": {
    "colab": {
     "base_uri": "https://localhost:8080/"
    },
    "id": "lJkQgG63eG7f",
    "outputId": "be507248-b359-43d7-ca2f-2792b32b803f"
   },
   "outputs": [
    {
     "data": {
      "text/plain": [
       "DESCRIPTION\n",
       "Viral sinusitis (disorder)              1125\n",
       "Acute viral pharyngitis (disorder)       602\n",
       "Acute bronchitis (disorder)              508\n",
       "Prediabetes                              458\n",
       "Hypertension                             373\n",
       "Normal pregnancy                         339\n",
       "Chronic sinusitis (disorder)             329\n",
       "Otitis media                             202\n",
       "Streptococcal sore throat (disorder)     146\n",
       "Sprain of ankle                          108\n",
       "Name: count, dtype: int64"
      ]
     },
     "execution_count": 8,
     "metadata": {},
     "output_type": "execute_result"
    }
   ],
   "source": [
    "conditions['DESCRIPTION'].value_counts().head(10)\n"
   ]
  },
  {
   "cell_type": "markdown",
   "metadata": {
    "id": "16wt9GKqA88j"
   },
   "source": [
    "There are many conditions that have similar diagnosis but have slightly different names. I am going to group them in to categories in order to have a cleaner dataset for predition.\n",
    "\n",
    "The four groups are:\n",
    "\n",
    "Respiratory\n",
    "\n",
    "Heart\n",
    "\n",
    "Diabetes\n",
    "\n",
    "Physical"
   ]
  },
  {
   "cell_type": "code",
   "execution_count": 38,
   "metadata": {
    "id": "O4TBxziQbbJS"
   },
   "outputs": [],
   "source": [
    "def group_conditions(x):\n",
    "  if x in ['Viral sinusitis (disorder)','Acute viral pharyngitis (disorder)','Acute bronchitis (disorder)','Chronic sinusitis (disorder)']:\n",
    "    return 'Respiratory'\n",
    "  if x in ['Coronary Heart Disease','Cardiac Arrest','Stroke','Hypertension']:\n",
    "    return 'heart'\n",
    "  x = x.lower()\n",
    "  if 'sinusitis' in x:\n",
    "    return 'Respiratory'\n",
    "  if 'throat' in x:\n",
    "    return 'Respiratory'\n",
    "  if 'diabetes' in x:\n",
    "    return 'diabetes'\n",
    "  if 'sprain' in x:\n",
    "    return 'physical'\n",
    "  if 'fracture' in x:\n",
    "    return 'physical'\n",
    "  if 'concussion' in x:\n",
    "    return 'physical'\n",
    "  else:\n",
    "    return x\n",
    "\n",
    "\n"
   ]
  },
  {
   "cell_type": "code",
   "execution_count": 39,
   "metadata": {
    "id": "8lYOY00ccbj7"
   },
   "outputs": [
    {
     "data": {
      "text/plain": [
       "description_group\n",
       "Respiratory    2687\n",
       "diabetes        697\n",
       "heart           635\n",
       "physical        430\n",
       "Name: count, dtype: int64"
      ]
     },
     "execution_count": 39,
     "metadata": {},
     "output_type": "execute_result"
    }
   ],
   "source": [
    "conditions['description_group'] = conditions['DESCRIPTION'].apply(group_conditions)\n",
    "conditions_list = conditions['description_group'].value_counts().head(4).index.tolist()\n",
    "conditions = conditions[conditions['description_group'].isin(conditions_list)]\n",
    "\n",
    "conditions['description_group'].value_counts()\n",
    "\n"
   ]
  },
  {
   "cell_type": "code",
   "execution_count": 11,
   "metadata": {
    "colab": {
     "base_uri": "https://localhost:8080/",
     "height": 206
    },
    "id": "QkUnUGFGfUzc",
    "outputId": "3b8d873c-9c96-45c7-ac03-bc53fe62576d"
   },
   "outputs": [
    {
     "data": {
      "text/html": [
       "<div>\n",
       "<style scoped>\n",
       "    .dataframe tbody tr th:only-of-type {\n",
       "        vertical-align: middle;\n",
       "    }\n",
       "\n",
       "    .dataframe tbody tr th {\n",
       "        vertical-align: top;\n",
       "    }\n",
       "\n",
       "    .dataframe thead th {\n",
       "        text-align: right;\n",
       "    }\n",
       "</style>\n",
       "<table border=\"1\" class=\"dataframe\">\n",
       "  <thead>\n",
       "    <tr style=\"text-align: right;\">\n",
       "      <th></th>\n",
       "      <th>PATIENT</th>\n",
       "      <th>description_group</th>\n",
       "    </tr>\n",
       "  </thead>\n",
       "  <tbody>\n",
       "    <tr>\n",
       "      <th>1826</th>\n",
       "      <td>bc6fbe62-116e-424f-943c-bae29fa9f319</td>\n",
       "      <td>Respiratory</td>\n",
       "    </tr>\n",
       "    <tr>\n",
       "      <th>60</th>\n",
       "      <td>063df653-8a3a-4f2d-b86d-3e82f20fc29a</td>\n",
       "      <td>Respiratory</td>\n",
       "    </tr>\n",
       "    <tr>\n",
       "      <th>2326</th>\n",
       "      <td>f37ed933-9ad2-45b4-969d-a782cf676a40</td>\n",
       "      <td>Respiratory</td>\n",
       "    </tr>\n",
       "    <tr>\n",
       "      <th>25</th>\n",
       "      <td>04090939-7263-4562-90c7-547d117113f2</td>\n",
       "      <td>Respiratory</td>\n",
       "    </tr>\n",
       "    <tr>\n",
       "      <th>2182</th>\n",
       "      <td>e5e6332c-285e-4931-9818-5381d83dde03</td>\n",
       "      <td>Respiratory</td>\n",
       "    </tr>\n",
       "  </tbody>\n",
       "</table>\n",
       "</div>"
      ],
      "text/plain": [
       "                                   PATIENT description_group\n",
       "1826  bc6fbe62-116e-424f-943c-bae29fa9f319       Respiratory\n",
       "60    063df653-8a3a-4f2d-b86d-3e82f20fc29a       Respiratory\n",
       "2326  f37ed933-9ad2-45b4-969d-a782cf676a40       Respiratory\n",
       "25    04090939-7263-4562-90c7-547d117113f2       Respiratory\n",
       "2182  e5e6332c-285e-4931-9818-5381d83dde03       Respiratory"
      ]
     },
     "execution_count": 11,
     "metadata": {},
     "output_type": "execute_result"
    }
   ],
   "source": [
    "\n",
    "# Get most common condition for each patient in order to have one condition per patient.\n",
    "patient_condition_mode = conditions[['PATIENT','description_group','CODE']].groupby(['PATIENT', 'description_group'], as_index=False).count().sort_values(by='CODE', ascending=False).groupby(['PATIENT'], as_index=False).head(1)[['PATIENT', 'description_group']]\n",
    "\n",
    "patient_condition_mode.head()\n"
   ]
  },
  {
   "cell_type": "code",
   "execution_count": 12,
   "metadata": {
    "colab": {
     "base_uri": "https://localhost:8080/",
     "height": 206
    },
    "id": "a9pm7Ykhgy31",
    "outputId": "669e58c2-639b-43b7-dd6a-ba4c7b5cf808",
    "scrolled": true
   },
   "outputs": [
    {
     "data": {
      "text/html": [
       "<div>\n",
       "<style scoped>\n",
       "    .dataframe tbody tr th:only-of-type {\n",
       "        vertical-align: middle;\n",
       "    }\n",
       "\n",
       "    .dataframe tbody tr th {\n",
       "        vertical-align: top;\n",
       "    }\n",
       "\n",
       "    .dataframe thead th {\n",
       "        text-align: right;\n",
       "    }\n",
       "</style>\n",
       "<table border=\"1\" class=\"dataframe\">\n",
       "  <thead>\n",
       "    <tr style=\"text-align: right;\">\n",
       "      <th>DESCRIPTION</th>\n",
       "      <th>PATIENT</th>\n",
       "      <th>Body Height</th>\n",
       "      <th>Body Mass Index</th>\n",
       "      <th>Diastolic Blood Pressure</th>\n",
       "      <th>Systolic Blood Pressure</th>\n",
       "    </tr>\n",
       "  </thead>\n",
       "  <tbody>\n",
       "    <tr>\n",
       "      <th>0</th>\n",
       "      <td>00341a88-1cc1-4b39-b0f9-05b0531991a0</td>\n",
       "      <td>151.110000</td>\n",
       "      <td>40.722500</td>\n",
       "      <td>78.000000</td>\n",
       "      <td>116.500000</td>\n",
       "    </tr>\n",
       "    <tr>\n",
       "      <th>1</th>\n",
       "      <td>004a5922-7c4d-40cc-a0f8-68f607044c99</td>\n",
       "      <td>77.191000</td>\n",
       "      <td>15.160000</td>\n",
       "      <td>80.200000</td>\n",
       "      <td>120.800000</td>\n",
       "    </tr>\n",
       "    <tr>\n",
       "      <th>2</th>\n",
       "      <td>00630ce3-e8eb-4ed4-889b-2c0ac257cbf4</td>\n",
       "      <td>136.904000</td>\n",
       "      <td>15.485000</td>\n",
       "      <td>73.100000</td>\n",
       "      <td>120.500000</td>\n",
       "    </tr>\n",
       "    <tr>\n",
       "      <th>3</th>\n",
       "      <td>007cbcc1-7333-4c79-b5e9-ffa93822fa11</td>\n",
       "      <td>153.473333</td>\n",
       "      <td>18.897778</td>\n",
       "      <td>79.111111</td>\n",
       "      <td>120.222222</td>\n",
       "    </tr>\n",
       "    <tr>\n",
       "      <th>4</th>\n",
       "      <td>00b7297c-9997-455d-b581-f1bd677f5012</td>\n",
       "      <td>78.929231</td>\n",
       "      <td>16.476000</td>\n",
       "      <td>77.615385</td>\n",
       "      <td>114.692308</td>\n",
       "    </tr>\n",
       "  </tbody>\n",
       "</table>\n",
       "</div>"
      ],
      "text/plain": [
       "DESCRIPTION                               PATIENT  Body Height   \n",
       "0            00341a88-1cc1-4b39-b0f9-05b0531991a0   151.110000  \\\n",
       "1            004a5922-7c4d-40cc-a0f8-68f607044c99    77.191000   \n",
       "2            00630ce3-e8eb-4ed4-889b-2c0ac257cbf4   136.904000   \n",
       "3            007cbcc1-7333-4c79-b5e9-ffa93822fa11   153.473333   \n",
       "4            00b7297c-9997-455d-b581-f1bd677f5012    78.929231   \n",
       "\n",
       "DESCRIPTION  Body Mass Index  Diastolic Blood Pressure   \n",
       "0                  40.722500                 78.000000  \\\n",
       "1                  15.160000                 80.200000   \n",
       "2                  15.485000                 73.100000   \n",
       "3                  18.897778                 79.111111   \n",
       "4                  16.476000                 77.615385   \n",
       "\n",
       "DESCRIPTION  Systolic Blood Pressure  \n",
       "0                         116.500000  \n",
       "1                         120.800000  \n",
       "2                         120.500000  \n",
       "3                         120.222222  \n",
       "4                         114.692308  "
      ]
     },
     "execution_count": 12,
     "metadata": {},
     "output_type": "execute_result"
    }
   ],
   "source": [
    "patient_features = patient_observation_avg.pivot(index='PATIENT', columns='DESCRIPTION', values='value').reset_index()\n",
    "patient_features.head()"
   ]
  },
  {
   "cell_type": "code",
   "execution_count": 31,
   "metadata": {
    "id": "GRsV4Uz8fPbN"
   },
   "outputs": [
    {
     "data": {
      "text/html": [
       "<div>\n",
       "<style scoped>\n",
       "    .dataframe tbody tr th:only-of-type {\n",
       "        vertical-align: middle;\n",
       "    }\n",
       "\n",
       "    .dataframe tbody tr th {\n",
       "        vertical-align: top;\n",
       "    }\n",
       "\n",
       "    .dataframe thead th {\n",
       "        text-align: right;\n",
       "    }\n",
       "</style>\n",
       "<table border=\"1\" class=\"dataframe\">\n",
       "  <thead>\n",
       "    <tr style=\"text-align: right;\">\n",
       "      <th></th>\n",
       "      <th>birthdate</th>\n",
       "      <th>bday_year</th>\n",
       "      <th>age_est</th>\n",
       "    </tr>\n",
       "  </thead>\n",
       "  <tbody>\n",
       "    <tr>\n",
       "      <th>0</th>\n",
       "      <td>1929-04-08</td>\n",
       "      <td>1929</td>\n",
       "      <td>88</td>\n",
       "    </tr>\n",
       "    <tr>\n",
       "      <th>1</th>\n",
       "      <td>2016-12-15</td>\n",
       "      <td>2016</td>\n",
       "      <td>1</td>\n",
       "    </tr>\n",
       "    <tr>\n",
       "      <th>2</th>\n",
       "      <td>1943-11-28</td>\n",
       "      <td>1943</td>\n",
       "      <td>74</td>\n",
       "    </tr>\n",
       "    <tr>\n",
       "      <th>3</th>\n",
       "      <td>1954-10-22</td>\n",
       "      <td>1954</td>\n",
       "      <td>63</td>\n",
       "    </tr>\n",
       "    <tr>\n",
       "      <th>4</th>\n",
       "      <td>1935-04-08</td>\n",
       "      <td>1935</td>\n",
       "      <td>82</td>\n",
       "    </tr>\n",
       "  </tbody>\n",
       "</table>\n",
       "</div>"
      ],
      "text/plain": [
       "    birthdate bday_year  age_est\n",
       "0  1929-04-08      1929       88\n",
       "1  2016-12-15      2016        1\n",
       "2  1943-11-28      1943       74\n",
       "3  1954-10-22      1954       63\n",
       "4  1935-04-08      1935       82"
      ]
     },
     "execution_count": 31,
     "metadata": {},
     "output_type": "execute_result"
    }
   ],
   "source": [
    "patients['bday_year'] = patients['birthdate'].apply(lambda x:x.split('-')[0])\n",
    "patients['age_est'] = 2017 - patients['bday_year'].astype(int)\n",
    "\n",
    "patients[['birthdate','bday_year','age_est']].head()"
   ]
  },
  {
   "cell_type": "code",
   "execution_count": 14,
   "metadata": {
    "colab": {
     "base_uri": "https://localhost:8080/"
    },
    "id": "nrFnTIy8jLlH",
    "outputId": "04117030-0b66-4eb6-e0df-6f6d98677273"
   },
   "outputs": [
    {
     "data": {
      "text/plain": [
       "Body Height                  0\n",
       "Body Mass Index             10\n",
       "Diastolic Blood Pressure     0\n",
       "Systolic Blood Pressure      0\n",
       "age_est                      0\n",
       "race                         0\n",
       "dtype: int64"
      ]
     },
     "execution_count": 14,
     "metadata": {},
     "output_type": "execute_result"
    }
   ],
   "source": [
    "patient_condition = patient_condition_mode.merge(patient_features, on='PATIENT')\n",
    "\n",
    "df = patient_condition.merge(patients[['patient','age_est','race','ethnicity','gender']], left_on='PATIENT',right_on='patient')\n",
    "\n",
    "features = ['Body Height','Body Mass Index','Diastolic Blood Pressure','Systolic Blood Pressure','age_est','race']\n",
    "\n",
    "df[features].isna().sum()\n"
   ]
  },
  {
   "cell_type": "code",
   "execution_count": 32,
   "metadata": {
    "id": "KZW3jQFZDr_F"
   },
   "outputs": [],
   "source": [
    "df['Body Mass Index'] = df['Body Mass Index'].fillna(df['Body Mass Index'].mean())\n",
    "\n"
   ]
  },
  {
   "cell_type": "code",
   "execution_count": 41,
   "metadata": {
    "id": "otrZpeJxCxI6"
   },
   "outputs": [
    {
     "data": {
      "text/plain": [
       "description_group\n",
       "Respiratory    0.784703\n",
       "physical       0.082153\n",
       "heart          0.079320\n",
       "diabetes       0.053824\n",
       "Name: count, dtype: float64"
      ]
     },
     "execution_count": 41,
     "metadata": {},
     "output_type": "execute_result"
    }
   ],
   "source": [
    "## Setup Model\n",
    "from sklearn.model_selection import train_test_split, cross_val_predict\n",
    "from sklearn.metrics import log_loss, accuracy_score\n",
    "from sklearn.ensemble import RandomForestClassifier\n",
    "from sklearn.feature_selection import RFE\n",
    "\n",
    "\n",
    "target = 'description_group'\n",
    "X = pd.get_dummies(df[features])\n",
    "y = df[target]\n",
    "\n",
    "X_train, X_test, y_train, y_test = train_test_split(X,y , random_state=22, test_size=0.25, shuffle=True)\n",
    "\n",
    "y.value_counts()/len(y)\n"
   ]
  },
  {
   "cell_type": "markdown",
   "metadata": {
    "id": "lphDhfwYMmNC"
   },
   "source": [
    "## Feature Selection"
   ]
  },
  {
   "cell_type": "code",
   "execution_count": 40,
   "metadata": {},
   "outputs": [
    {
     "data": {
      "text/plain": [
       "description_group\n",
       "Respiratory    0.784703\n",
       "physical       0.082153\n",
       "heart          0.079320\n",
       "diabetes       0.053824\n",
       "Name: count, dtype: float64"
      ]
     },
     "execution_count": 40,
     "metadata": {},
     "output_type": "execute_result"
    }
   ],
   "source": []
  },
  {
   "cell_type": "code",
   "execution_count": 17,
   "metadata": {
    "colab": {
     "base_uri": "https://localhost:8080/",
     "height": 272
    },
    "id": "x4PxLh3TnlJe",
    "outputId": "f0002966-a0b4-45f4-c233-cc8cd9011057",
    "scrolled": true
   },
   "outputs": [
    {
     "name": "stdout",
     "output_type": "stream",
     "text": [
      "[ True  True  True  True False False False False False]\n",
      "[1 1 1 1 2 6 5 4 3]\n"
     ]
    },
    {
     "data": {
      "text/html": [
       "<div>\n",
       "<style scoped>\n",
       "    .dataframe tbody tr th:only-of-type {\n",
       "        vertical-align: middle;\n",
       "    }\n",
       "\n",
       "    .dataframe tbody tr th {\n",
       "        vertical-align: top;\n",
       "    }\n",
       "\n",
       "    .dataframe thead th {\n",
       "        text-align: right;\n",
       "    }\n",
       "</style>\n",
       "<table border=\"1\" class=\"dataframe\">\n",
       "  <thead>\n",
       "    <tr style=\"text-align: right;\">\n",
       "      <th></th>\n",
       "      <th>0</th>\n",
       "      <th>1</th>\n",
       "    </tr>\n",
       "  </thead>\n",
       "  <tbody>\n",
       "    <tr>\n",
       "      <th>0</th>\n",
       "      <td>Body Height</td>\n",
       "      <td>True</td>\n",
       "    </tr>\n",
       "    <tr>\n",
       "      <th>1</th>\n",
       "      <td>Body Mass Index</td>\n",
       "      <td>True</td>\n",
       "    </tr>\n",
       "    <tr>\n",
       "      <th>2</th>\n",
       "      <td>Diastolic Blood Pressure</td>\n",
       "      <td>True</td>\n",
       "    </tr>\n",
       "    <tr>\n",
       "      <th>3</th>\n",
       "      <td>Systolic Blood Pressure</td>\n",
       "      <td>True</td>\n",
       "    </tr>\n",
       "    <tr>\n",
       "      <th>4</th>\n",
       "      <td>age_est</td>\n",
       "      <td>False</td>\n",
       "    </tr>\n",
       "    <tr>\n",
       "      <th>5</th>\n",
       "      <td>race</td>\n",
       "      <td>False</td>\n",
       "    </tr>\n",
       "  </tbody>\n",
       "</table>\n",
       "</div>"
      ],
      "text/plain": [
       "                          0      1\n",
       "0               Body Height   True\n",
       "1           Body Mass Index   True\n",
       "2  Diastolic Blood Pressure   True\n",
       "3   Systolic Blood Pressure   True\n",
       "4                   age_est  False\n",
       "5                      race  False"
      ]
     },
     "execution_count": 17,
     "metadata": {},
     "output_type": "execute_result"
    }
   ],
   "source": [
    "rf = RandomForestClassifier()\n",
    "rfe = RFE(rf, n_features_to_select=4)\n",
    "\n",
    "rfe.fit(X, y)\n",
    "print(rfe.support_)\n",
    "print(rfe.ranking_)\n",
    "\n",
    "pd.DataFrame(zip(features, rfe.support_))\n",
    "\n"
   ]
  },
  {
   "cell_type": "code",
   "execution_count": 18,
   "metadata": {
    "id": "e3IPp6TAn2oO"
   },
   "outputs": [],
   "source": [
    "model_features = ['Body Height','Body Mass Index','Diastolic Blood Pressure','Systolic Blood Pressure']\n",
    "\n",
    "X = pd.get_dummies(df[model_features])\n",
    "y = df[target]\n",
    "\n",
    "rf = RandomForestClassifier(50)\n",
    "rf.fit(X_train,y_train)\n",
    "\n",
    "pred_probs = rf.predict_proba(X_test)\n",
    "preds = rf.predict(X_test)\n"
   ]
  },
  {
   "cell_type": "code",
   "execution_count": 42,
   "metadata": {
    "colab": {
     "base_uri": "https://localhost:8080/"
    },
    "id": "l5fOT5Wdkal9",
    "outputId": "90cfc6c6-b202-4228-93ec-011903ef9d96"
   },
   "outputs": [
    {
     "data": {
      "text/plain": [
       "0.7584905660377359"
      ]
     },
     "execution_count": 42,
     "metadata": {},
     "output_type": "execute_result"
    }
   ],
   "source": [
    "accuracy_score(preds,y_test)"
   ]
  },
  {
   "cell_type": "code",
   "execution_count": 43,
   "metadata": {
    "colab": {
     "base_uri": "https://localhost:8080/"
    },
    "id": "qFVKP7xdkqCo",
    "outputId": "41c0215e-47c7-4f62-eefb-5fb6f1fec4c6"
   },
   "outputs": [
    {
     "data": {
      "text/plain": [
       "0.7584905660377359"
      ]
     },
     "execution_count": 43,
     "metadata": {},
     "output_type": "execute_result"
    }
   ],
   "source": [
    "cv_pred = cross_val_predict(rf, X, y, cv=4)\n",
    "\n",
    "accuracy_score(preds,y_test)\n"
   ]
  },
  {
   "cell_type": "markdown",
   "metadata": {
    "id": "3jzD0E-dNBk2"
   },
   "source": [
    "## AutoMl Exercise\n",
    "\n",
    "New Prediction: See if the patient has an elevated risk of a specific disease. Even if the prediction is no less accurate, if the probability % can be helpful then that is very useful to a Doctor."
   ]
  },
  {
   "cell_type": "code",
   "execution_count": 23,
   "metadata": {
    "colab": {
     "base_uri": "https://localhost:8080/",
     "height": 175
    },
    "id": "FHxE2FblhO7J",
    "outputId": "018f0d9b-1e20-4c4c-d77d-c73275a20394"
   },
   "outputs": [
    {
     "data": {
      "text/html": [
       "<div>\n",
       "<style scoped>\n",
       "    .dataframe tbody tr th:only-of-type {\n",
       "        vertical-align: middle;\n",
       "    }\n",
       "\n",
       "    .dataframe tbody tr th {\n",
       "        vertical-align: top;\n",
       "    }\n",
       "\n",
       "    .dataframe thead th {\n",
       "        text-align: right;\n",
       "    }\n",
       "</style>\n",
       "<table border=\"1\" class=\"dataframe\">\n",
       "  <thead>\n",
       "    <tr style=\"text-align: right;\">\n",
       "      <th></th>\n",
       "      <th>targets</th>\n",
       "      <th>baseline_accuracy</th>\n",
       "      <th>baseline_loss</th>\n",
       "      <th>accuracy</th>\n",
       "      <th>loss</th>\n",
       "      <th>accuracy_difference</th>\n",
       "      <th>loss_difference</th>\n",
       "    </tr>\n",
       "  </thead>\n",
       "  <tbody>\n",
       "    <tr>\n",
       "      <th>0</th>\n",
       "      <td>is_respiratory</td>\n",
       "      <td>0.784703</td>\n",
       "      <td>7.760107</td>\n",
       "      <td>0.751653</td>\n",
       "      <td>0.690866</td>\n",
       "      <td>-0.033050</td>\n",
       "      <td>-7.069240</td>\n",
       "    </tr>\n",
       "    <tr>\n",
       "      <th>1</th>\n",
       "      <td>is_diabetes</td>\n",
       "      <td>0.917847</td>\n",
       "      <td>2.961093</td>\n",
       "      <td>0.915958</td>\n",
       "      <td>0.677719</td>\n",
       "      <td>-0.001889</td>\n",
       "      <td>-2.283375</td>\n",
       "    </tr>\n",
       "    <tr>\n",
       "      <th>2</th>\n",
       "      <td>is_heart</td>\n",
       "      <td>0.920680</td>\n",
       "      <td>2.858987</td>\n",
       "      <td>0.917847</td>\n",
       "      <td>0.466722</td>\n",
       "      <td>-0.002833</td>\n",
       "      <td>-2.392265</td>\n",
       "    </tr>\n",
       "    <tr>\n",
       "      <th>3</th>\n",
       "      <td>is_physical</td>\n",
       "      <td>0.946176</td>\n",
       "      <td>1.940027</td>\n",
       "      <td>0.945231</td>\n",
       "      <td>0.713964</td>\n",
       "      <td>-0.000944</td>\n",
       "      <td>-1.226062</td>\n",
       "    </tr>\n",
       "  </tbody>\n",
       "</table>\n",
       "</div>"
      ],
      "text/plain": [
       "          targets  baseline_accuracy  baseline_loss  accuracy      loss   \n",
       "0  is_respiratory           0.784703       7.760107  0.751653  0.690866  \\\n",
       "1     is_diabetes           0.917847       2.961093  0.915958  0.677719   \n",
       "2        is_heart           0.920680       2.858987  0.917847  0.466722   \n",
       "3     is_physical           0.946176       1.940027  0.945231  0.713964   \n",
       "\n",
       "   accuracy_difference  loss_difference  \n",
       "0            -0.033050        -7.069240  \n",
       "1            -0.001889        -2.283375  \n",
       "2            -0.002833        -2.392265  \n",
       "3            -0.000944        -1.226062  "
      ]
     },
     "execution_count": 23,
     "metadata": {},
     "output_type": "execute_result"
    }
   ],
   "source": [
    "df['is_respiratory'] = np.where(df['description_group']=='Respiratory',1,0)\n",
    "df['is_diabetes'] = np.where(df['description_group']=='physical',1,0)\n",
    "df['is_heart'] = np.where(df['description_group']=='heart',1,0)\n",
    "df['is_physical'] = np.where(df['description_group']=='diabetes',1,0)\n",
    "\n",
    "\n",
    "targets = ['is_respiratory', 'is_diabetes', 'is_heart', 'is_physical']\n",
    "baseline_accuracies = []\n",
    "baseline_losses = []\n",
    "accuracy_scores = []\n",
    "log_losses = []\n",
    "\n",
    "for i in targets:\n",
    "  cv_pred = cross_val_predict(rf, X, df[i], cv=4)\n",
    "  cv_pred_proba = cross_val_predict(rf, X, df[i], cv=4, method='predict_proba')\n",
    "  accuracy = accuracy_score(df[i], cv_pred)\n",
    "  loss = log_loss(df[i], cv_pred_proba)\n",
    "  if i =='is_respiratory':\n",
    "    baseline_accuracy = df[i].sum()/len(df)\n",
    "    baseline_loss = log_loss(df[i], [1 for x in range(len(df))])\n",
    "  else:\n",
    "    baseline_accuracy =  1-df[i].sum()/len(df)\n",
    "    baseline_loss = log_loss(df[i], [0 for x in range(len(df))])\n",
    "\n",
    "\n",
    "  baseline_accuracies.append(baseline_accuracy)\n",
    "  baseline_losses.append(baseline_loss)\n",
    "  accuracy_scores.append(accuracy)\n",
    "  log_losses.append(loss)\n",
    "\n",
    "\n",
    "eval_df = pd.DataFrame()\n",
    "\n",
    "eval_df['targets'] = targets\n",
    "eval_df['baseline_accuracy'] = baseline_accuracies\n",
    "eval_df['baseline_loss'] = baseline_losses\n",
    "eval_df['accuracy'] = accuracy_scores\n",
    "eval_df['loss'] = log_losses\n",
    "\n",
    "eval_df['accuracy_difference'] = eval_df['accuracy'] - eval_df['baseline_accuracy']\n",
    "eval_df['loss_difference'] = eval_df['loss'] - eval_df['baseline_loss']\n",
    "\n",
    "eval_df\n",
    "\n"
   ]
  },
  {
   "cell_type": "markdown",
   "metadata": {
    "id": "LmMknAgJNb1M"
   },
   "source": [
    "This shows up that the accuracy is hard to beat from the baseline. However, using the predict_proba gives us a % chance of the disease. Comparing the loss shows us there is some information that could be useful. A heart condition prediction, for example, has a much lower log loss compared to the baseline of predicting the user has no heart condition."
   ]
  },
  {
   "cell_type": "code",
   "execution_count": null,
   "metadata": {
    "id": "XQRvgXIaNcWo"
   },
   "outputs": [],
   "source": []
  },
  {
   "cell_type": "code",
   "execution_count": null,
   "metadata": {
    "id": "MAIzVchoNcUO"
   },
   "outputs": [],
   "source": []
  },
  {
   "cell_type": "code",
   "execution_count": null,
   "metadata": {
    "id": "-tWUW1hWNcOS"
   },
   "outputs": [],
   "source": []
  }
 ],
 "metadata": {
  "colab": {
   "provenance": []
  },
  "kernelspec": {
   "display_name": "Python 3 (ipykernel)",
   "language": "python",
   "name": "python3"
  },
  "language_info": {
   "codemirror_mode": {
    "name": "ipython",
    "version": 3
   },
   "file_extension": ".py",
   "mimetype": "text/x-python",
   "name": "python",
   "nbconvert_exporter": "python",
   "pygments_lexer": "ipython3",
   "version": "3.10.10"
  }
 },
 "nbformat": 4,
 "nbformat_minor": 1
}
